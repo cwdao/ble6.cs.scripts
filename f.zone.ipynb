{
 "cells": [
  {
   "cell_type": "code",
   "execution_count": 2,
   "id": "c5c0f91d",
   "metadata": {},
   "outputs": [
    {
     "name": "stdout",
     "output_type": "stream",
     "text": [
      "b = 25.7694 cm\n"
     ]
    }
   ],
   "source": [
    "import math\n",
    "\n",
    "def ellipse_minor_semi_axis_b(D_Los_cm: float, wavelength_cm: float, n: int) -> float:\n",
    "    \"\"\"\n",
    "    计算椭圆短轴半径 b（也即“正上方顶点到焦点连线的直线距离”）。\n",
    "    参数:\n",
    "      D_Los_cm: 两焦点间距（cm）\n",
    "      wavelength_cm: 波长 λ（cm）\n",
    "      n: 波长个数（非负整数）\n",
    "    返回:\n",
    "      b（cm）\n",
    "    \"\"\"\n",
    "    if D_Los_cm <= 0:\n",
    "        raise ValueError(\"D_Los 必须为正。\")\n",
    "    if wavelength_cm <= 0:\n",
    "        raise ValueError(\"波长必须为正。\")\n",
    "    if n < 0:\n",
    "        raise ValueError(\"n 必须为非负。\")\n",
    "    # b = 0.5 * sqrt[n*λ*(2*D_Los + n*λ)]\n",
    "    b = 0.5 * math.sqrt(n * wavelength_cm * (2.0 * D_Los_cm + n * wavelength_cm))\n",
    "    return b\n",
    "\n",
    "# 示例\n",
    "D_Los = 100.0     # cm\n",
    "lam = 12.5        # cm\n",
    "n = 1\n",
    "b = ellipse_minor_semi_axis_b(D_Los, lam, n)\n",
    "print(f\"b = {b:.4f} cm\")"
   ]
  },
  {
   "cell_type": "code",
   "execution_count": 3,
   "id": "b9c7e2d8",
   "metadata": {},
   "outputs": [
    {
     "name": "stdout",
     "output_type": "stream",
     "text": [
      "波长 λ = 12.5 cm\n",
      "D_Los(cm)    b(n=1, cm)    b(n=2, cm)\n",
      "------------------------------------\n",
      "     30.0        15.0520        23.0489\n",
      "     40.0        17.0018        25.6174\n",
      "     50.0        18.7500        27.9508\n",
      "     60.0        20.3485        30.1040\n",
      "     70.0        21.8303        32.1131\n",
      "     80.0        23.2177        34.0037\n",
      "     90.0        24.5268        35.7946\n",
      "    100.0        25.7694        37.5000\n",
      "    110.0        26.9548        39.1312\n",
      "    120.0        28.0903        40.6971\n",
      "    130.0        29.1815        42.2049\n",
      "    140.0        30.2335        43.6606\n",
      "    150.0        31.2500        45.0694\n",
      "    160.0        32.2345        46.4354\n",
      "    170.0        33.1898        47.7624\n",
      "    180.0        34.1184        49.0535\n",
      "    190.0        35.0223        50.3115\n",
      "    200.0        35.9035        51.5388\n"
     ]
    }
   ],
   "source": [
    "import math\n",
    "\n",
    "def ellipse_minor_semi_axis_b(D_Los_cm: float, wavelength_cm: float, n: int) -> float:\n",
    "    \"\"\"\n",
    "    计算椭圆短轴半径 b（即“正上方顶点到焦点连线的直线距离”），单位 cm。\n",
    "    b = 0.5 * sqrt[n*λ*(2*D_Los + n*λ)]\n",
    "    \"\"\"\n",
    "    if D_Los_cm <= 0:\n",
    "        raise ValueError(\"D_Los 必须为正。\")\n",
    "    if wavelength_cm <= 0:\n",
    "        raise ValueError(\"波长必须为正。\")\n",
    "    if n < 0:\n",
    "        raise ValueError(\"n 必须为非负。\")\n",
    "    return 0.5 * math.sqrt(n * wavelength_cm * (2.0 * D_Los_cm + n * wavelength_cm))\n",
    "\n",
    "def run_table(wavelength_cm: float, D_start: float = 30.0, D_end: float = 200.0, step: float = 10.0):\n",
    "    print(f\"波长 λ = {wavelength_cm} cm\")\n",
    "    print(\"D_Los(cm)    b(n=1, cm)    b(n=2, cm)\")\n",
    "    print(\"-\" * 36)\n",
    "    D = D_start\n",
    "    # 为避免浮点累积误差，用整数步计数\n",
    "    steps = int(round((D_end - D_start) / step)) + 1\n",
    "    for i in range(steps):\n",
    "        D = D_start + i * step\n",
    "        b1 = ellipse_minor_semi_axis_b(D, wavelength_cm, 1)\n",
    "        b2 = ellipse_minor_semi_axis_b(D, wavelength_cm, 2)\n",
    "        print(f\"{D:9.1f}    {b1:11.4f}    {b2:11.4f}\")\n",
    "\n",
    "if __name__ == \"__main__\":\n",
    "    wavelength = 12.5  # 例如 12.5 cm\n",
    "    run_table(wavelength_cm=wavelength, D_start=30, D_end=200, step=10)"
   ]
  }
 ],
 "metadata": {
  "kernelspec": {
   "display_name": "ml_pt2",
   "language": "python",
   "name": "python3"
  },
  "language_info": {
   "codemirror_mode": {
    "name": "ipython",
    "version": 3
   },
   "file_extension": ".py",
   "mimetype": "text/x-python",
   "name": "python",
   "nbconvert_exporter": "python",
   "pygments_lexer": "ipython3",
   "version": "3.11.9"
  }
 },
 "nbformat": 4,
 "nbformat_minor": 5
}
